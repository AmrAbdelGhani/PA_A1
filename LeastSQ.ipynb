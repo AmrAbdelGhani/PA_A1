{
 "cells": [
  {
   "cell_type": "code",
   "execution_count": 1,
   "metadata": {
    "collapsed": true
   },
   "outputs": [],
   "source": [
    "import matplotlib.pyplot as plt\n",
    "import os\n",
    "import numpy as np\n",
    "from numpy.linalg import inv\n",
    "#http://mathworld.wolfram.com/LeastSquaresFittingPolynomial.html\n",
    "#http://mathworld.wolfram.com/LeastSquaresFitting.html"
   ]
  },
  {
   "cell_type": "code",
   "execution_count": 2,
   "metadata": {
    "collapsed": false
   },
   "outputs": [],
   "source": [
    "skin = open('spiral.points.txt','r')\n",
    "rl = skin.readlines()\n",
    "#print(rl)\n",
    "\n",
    "w = []\n",
    "count = [0,0]\n",
    "for e in rl:\n",
    "    if(e.find('\\n') != -1):\n",
    "        e = e[:-1]\n",
    "    a = e.split('\\t')\n",
    "    a = [float(i) for i in a]\n",
    "    w.append(a)\n",
    "\n",
    "skin.close()"
   ]
  },
  {
   "cell_type": "code",
   "execution_count": 3,
   "metadata": {
    "collapsed": false
   },
   "outputs": [],
   "source": [
    "def minimized_rss(x,y):\n",
    "    x_ps = inv(np.dot(x.T,x))\n",
    "    x_psinv = np.dot(x_ps,x.T)\n",
    "    w = np.dot(x_psinv,y)\n",
    "    return w\n",
    "def fill_poly(x_points,k=1):\n",
    "    x= []\n",
    "    for xp in x_points:\n",
    "        each =[]\n",
    "        for i in range(k+1):\n",
    "            each.append(xp**i)\n",
    "        x.append(each)\n",
    "    x = np.array(x)\n",
    "    return x\n",
    "\n",
    "def y_hat(w,x):\n",
    "    eq_ln = []\n",
    "    for l in range(len(w)):\n",
    "        eq_ln.append(w[l]*(x_points**l))\n",
    "    eq_ln = np.sum(eq_ln,axis=0)\n",
    "    return eq_ln"
   ]
  },
  {
   "cell_type": "code",
   "execution_count": 4,
   "metadata": {
    "collapsed": false
   },
   "outputs": [],
   "source": [
    "x_points = [e[0] for e in w]\n",
    "y_points = [e[1] for e in w]\n",
    "x_points = np.array(x_points)\n",
    "y = np.array(y_points)\n",
    "y.shape = (y.size,1)"
   ]
  },
  {
   "cell_type": "code",
   "execution_count": 12,
   "metadata": {
    "collapsed": false,
    "scrolled": true
   },
   "outputs": [
    {
     "name": "stdout",
     "output_type": "stream",
     "text": [
      "Error:  8.14157626445\n"
     ]
    }
   ],
   "source": [
    "mini = 65\n",
    "k = 65 #Best K-th order model\n",
    "x = fill_poly(x_points,k)\n",
    "\n",
    "w = minimized_rss(x,y)\n",
    "#print('Weights\\n' , w)\n",
    "\n",
    "y_h = y_hat(w,x_points)\n",
    "\n",
    "error = 0.5 * np.sum((y_h - y_points )**2 )\n",
    "print('Error: ', error)"
   ]
  },
  {
   "cell_type": "code",
   "execution_count": 13,
   "metadata": {
    "collapsed": false
   },
   "outputs": [
    {
     "name": "stdout",
     "output_type": "stream",
     "text": [
      "65\n"
     ]
    }
   ],
   "source": [
    "print(mini)"
   ]
  },
  {
   "cell_type": "code",
   "execution_count": 14,
   "metadata": {
    "collapsed": false
   },
   "outputs": [
    {
     "data": {
      "image/png": "[encoded data removed]",
      "text/plain": [
       "<matplotlib.figure.Figure at 0x201de9f3470>"
      ]
     },
     "metadata": {},
     "output_type": "display_data"
    }
   ],
   "source": [
    "fig = plt.figure()\n",
    "ax = fig.add_subplot(1, 1, 1)\n",
    "\n",
    "# Move left y-axis and bottim x-axis to centre, passing through (0,0)\n",
    "ax.spines['left'].set_position('center')\n",
    "ax.spines['bottom'].set_position('center')\n",
    "\n",
    "# Eliminate upper and right axes\n",
    "ax.spines['right'].set_color('none')\n",
    "ax.spines['top'].set_color('none')\n",
    "\n",
    "# Show ticks in the left and lower axes only\n",
    "ax.xaxis.set_ticks_position('bottom')\n",
    "ax.yaxis.set_ticks_position('left')\n",
    "ax.get_xaxis().set_visible(False)\n",
    "ax.get_yaxis().set_visible(False)\n",
    "plt.plot(x_points,y_points,'bo',ms = 4.01)\n",
    "plt.plot(x_points,y_h,'r')\n",
    "plt.show()"
   ]
  },
  {
   "cell_type": "code",
   "execution_count": null,
   "metadata": {
    "collapsed": true
   },
   "outputs": [],
   "source": []
  },
  {
   "cell_type": "code",
   "execution_count": null,
   "metadata": {
    "collapsed": true
   },
   "outputs": [],
   "source": []
  }
 ],
 "metadata": {
  "kernelspec": {
   "display_name": "Python [conda env:tensorflow]",
   "language": "python",
   "name": "conda-env-tensorflow-py"
  },
  "language_info": {
   "codemirror_mode": {
    "name": "ipython",
    "version": 3
   },
   "file_extension": ".py",
   "mimetype": "text/x-python",
   "name": "python",
   "nbconvert_exporter": "python",
   "pygments_lexer": "ipython3",
   "version": "3.5.2"
  }
 },
 "nbformat": 4,
 "nbformat_minor": 2
}
