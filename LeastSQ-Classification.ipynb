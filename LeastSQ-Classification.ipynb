{
 "cells": [
  {
   "cell_type": "code",
   "execution_count": 1,
   "metadata": {
    "collapsed": true
   },
   "outputs": [],
   "source": [
    "import matplotlib.pyplot as plt\n",
    "import os\n",
    "import numpy as np\n",
    "from numpy.linalg import inv\n",
    "#http://mathworld.wolfram.com/LeastSquaresFittingPolynomial.html\n",
    "#http://mathworld.wolfram.com/LeastSquaresFitting.html"
   ]
  },
  {
   "cell_type": "code",
   "execution_count": 2,
   "metadata": {
    "collapsed": false
   },
   "outputs": [],
   "source": [
    "skin = open('linear.points.txt','r')\n",
    "rl = skin.readlines()\n",
    "#print(rl)\n",
    "\n",
    "w = []\n",
    "count = [0,0]\n",
    "for e in rl:\n",
    "    if(e.find('\\n') != -1):\n",
    "        e = e[:-1]\n",
    "    a = e.split('\\t')\n",
    "    a = [float(i) for i in a]\n",
    "    w.append(a)\n",
    "\n",
    "skin.close()\n",
    "\n",
    "x_points = [(e[0],e[1]) for e in w]\n",
    "y_points = [e[2] for e in w]\n",
    "\n",
    "cl_1 = [[e[0],e[1]] for e in w if e[2] == 1]\n",
    "cl_2 = [[e[0],e[1]] for e in w if e[2] == 2]\n",
    "\n",
    "cl_1 = np.array(cl_1)\n",
    "cl_2 = np.array(cl_2)\n",
    "x_points = np.array(x_points)\n",
    "y = np.array(y_points)\n",
    "y.shape = (y.size,1)"
   ]
  },
  {
   "cell_type": "code",
   "execution_count": 3,
   "metadata": {
    "collapsed": false
   },
   "outputs": [],
   "source": [
    "def minimized_rss(x,y):\n",
    "    x_ps = inv(np.dot(x.T,x))\n",
    "    x_psinv = np.dot(x_ps,x.T)\n",
    "    w = np.dot(x_psinv,y)\n",
    "    return w\n",
    "def fill_poly(x_points,k=1):\n",
    "    x= []\n",
    "    for xp in x_points:\n",
    "        each =[]\n",
    "        for i in range(k+1):\n",
    "            each.append(xp**i)\n",
    "        x.append(each)\n",
    "    x = np.array(x)\n",
    "    #print(x)\n",
    "    return x\n",
    "def multi_feat(x_points):\n",
    "    z = [(1,e[0],e[1]) for e in x_points]\n",
    "    return np.array(z)\n",
    "def y_hat(w,x):\n",
    "    eq_ln = []\n",
    "    ln = len(w)\n",
    "    for l in range(ln):\n",
    "        eq_ln.append(w[l]*(x_points**(l)))\n",
    "    eq_ln = np.sum(eq_ln,axis=0)\n",
    "    return eq_ln\n",
    "def y_mult(w,x):\n",
    "    eq_ln = []\n",
    "    for l in range(len(w)):\n",
    "        eq_ln.append(w[l]*(x_points))\n",
    "    \n",
    "    eq_ln = np.sum(eq_ln,axis=0)\n",
    "    return eq_ln\n",
    "def Er(y_h,y_points):\n",
    "    a = 0.5 * np.sum((y_h - y_points )**2 )\n",
    "    #print(a)\n",
    "    return a\n",
    "def rms(y_h,y_points):\n",
    "    return np.sqrt(2*Er(y_h,y_points) / len(y_points))"
   ]
  },
  {
   "cell_type": "code",
   "execution_count": 4,
   "metadata": {
    "collapsed": false,
    "scrolled": true
   },
   "outputs": [
    {
     "name": "stdout",
     "output_type": "stream",
     "text": [
      "Weights\n",
      " [[ 1.68076076]\n",
      " [ 0.51264798]\n",
      " [ 0.60487211]]\n"
     ]
    }
   ],
   "source": [
    "mini = 65\n",
    "rmses = []\n",
    "k = 1 #Best K-th order model\n",
    "#x = fill_poly(x_points,k)\n",
    "x = multi_feat(x_points)\n",
    "w = minimized_rss(x,y)\n",
    "print('Weights\\n' , w)\n",
    "\n",
    "y_h = y_mult(w,x_points)\n"
   ]
  },
  {
   "cell_type": "code",
   "execution_count": 8,
   "metadata": {
    "collapsed": false
   },
   "outputs": [
    {
     "data": {
      "image/png": "[encoded data removed]",
      "text/plain": [
       "<matplotlib.figure.Figure at 0x1edcc6ad1d0>"
      ]
     },
     "metadata": {},
     "output_type": "display_data"
    }
   ],
   "source": [
    "plt.ylim(-1,1)\n",
    "plt.plot(cl_1[:,0],cl_1[:,1],'bo',ms = 3.501)\n",
    "plt.plot(cl_2[:,0],cl_2[:,1],'ro',ms = 3.501)\n",
    "\n",
    "space = np.linspace(-1, 1.0, num=100)\n",
    "y_eq = (-w[0] + 1.5-w[1]*space) / w[2]\n",
    "plt.plot(space,y_eq,'g', ms=0.01)\n",
    "plt.xlabel('x')\n",
    "plt.ylabel('y')\n",
    "plt.show()"
   ]
  },
  {
   "cell_type": "code",
   "execution_count": null,
   "metadata": {
    "collapsed": true
   },
   "outputs": [],
   "source": []
  }
 ],
 "metadata": {
  "anaconda-cloud": {},
  "kernelspec": {
   "display_name": "Python [conda env:tensorflow]",
   "language": "python",
   "name": "conda-env-tensorflow-py"
  },
  "language_info": {
   "codemirror_mode": {
    "name": "ipython",
    "version": 3
   },
   "file_extension": ".py",
   "mimetype": "text/x-python",
   "name": "python",
   "nbconvert_exporter": "python",
   "pygments_lexer": "ipython3",
   "version": "3.5.2"
  }
 },
 "nbformat": 4,
 "nbformat_minor": 2
}
